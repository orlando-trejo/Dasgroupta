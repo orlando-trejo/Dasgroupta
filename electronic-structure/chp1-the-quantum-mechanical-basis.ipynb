{
 "cells": [
  {
   "cell_type": "code",
   "execution_count": 6,
   "metadata": {},
   "outputs": [],
   "source": [
    "from sympy.physics.quantum import *\n",
    "from sympy import symbols, I"
   ]
  },
  {
   "cell_type": "markdown",
   "metadata": {},
   "source": [
    "### Problem 1-1 Elementary quantum mechanics\n",
    "\n",
    "An electron in a hydrogen atom has a potential energy, $-e^{2}/r$, The wave function for the lowest energy state is\n",
    "\n",
    "$$\\psi(r)=exp( \\frac{-r}{a_{0}})$$\n",
    "\n",
    "where $a_{0}$ is the Bohr radius, $a_{0}=\\hbar/me^2$, and $A$ is a real constant.\n",
    "\n",
    "(a) Obtain $A$ such that the wave function is normalized, $<\\psi|\\psi> = 1$."
   ]
  },
  {
   "cell_type": "code",
   "execution_count": null,
   "metadata": {},
   "outputs": [],
   "source": []
  }
 ],
 "metadata": {
  "kernelspec": {
   "display_name": "Python 3",
   "language": "python",
   "name": "python3"
  },
  "language_info": {
   "codemirror_mode": {
    "name": "ipython",
    "version": 3
   },
   "file_extension": ".py",
   "mimetype": "text/x-python",
   "name": "python",
   "nbconvert_exporter": "python",
   "pygments_lexer": "ipython3",
   "version": "3.7.3"
  }
 },
 "nbformat": 4,
 "nbformat_minor": 2
}
