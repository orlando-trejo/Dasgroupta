{
 "cells": [
  {
   "cell_type": "markdown",
   "metadata": {},
   "source": [
    "# Electronic Structure and the Properties of Solids: The Physics of the Chemical Bond \n",
    "\n",
    "## by Walter A. Harrison\n",
    "\n",
    "## Chapter 1: The Quantum-Mechanical Basis"
   ]
  },
  {
   "cell_type": "code",
   "execution_count": 2,
   "metadata": {},
   "outputs": [],
   "source": [
    "from sympy.physics.quantum import *\n",
    "from sympy import symbols, I"
   ]
  },
  {
   "cell_type": "markdown",
   "metadata": {},
   "source": [
    "### Problem 1-1 Elementary quantum mechanics\n",
    "\n",
    "An electron in a hydrogen atom has a potential energy, $-e^{2}/r$, The wave function for the lowest energy state is\n",
    "\n",
    "$$\\psi(r)=Aexp( \\frac{-r}{a_{0}})$$\n",
    "\n",
    "where $a_{0}$ is the Bohr radius, $a_{0}=\\hbar/me^2$, and $A$ is a real constant.\n"
   ]
  },
  {
   "cell_type": "markdown",
   "metadata": {},
   "source": [
    "(a) Obtain $A$ such that the wave function is normalized, $<\\psi|\\psi> = 1$.\n",
    "\n",
    "\n",
    "Since we are working in polar coordinates, $<\\psi|\\psi>$ becomes\n",
    "\n",
    "$$<\\psi|\\psi> = A^{2}\\int_{0}^{\\pi}\\int_{0}^{2\\pi}\\int_{0}^{\\infty} r^2 sin(\\phi) exp( \\frac{-2r}{a_{0}}) \\,dr \\,d\\theta \\,d\\phi = 1$$\n",
    "\n",
    "$$<\\psi|\\psi> = 2 A^{2}\\int_{0}^{2\\pi}\\int_{0}^{\\infty} r^2 exp( \\frac{-2r}{a_{0}}) \\,dr \\,d\\theta = 1$$\n",
    "\n",
    "$$<\\psi|\\psi> = 4\\pi A^{2}\\int_{0}^{\\infty} r^2 exp( \\frac{-2r}{a_{0}}) \\,dr = 1$$\n",
    "\n",
    "$$<\\psi|\\psi> = \\pi A^{2} a_{0}^{3} = 1$$\n",
    "\n",
    "Therefore,\n",
    "\n",
    "$$A = (\\pi a_{0}^{3})^{(- \\frac{1}{2})}$$"
   ]
  },
  {
   "cell_type": "markdown",
   "metadata": {},
   "source": [
    "Working inward, the integration with respect to $\\phi$ is\n",
    "\n",
    "<img src=\"images/int_theta.png\">"
   ]
  },
  {
   "cell_type": "markdown",
   "metadata": {},
   "source": [
    "The integration with respect to $\\phi$ is \n",
    "\n",
    "<img src=\"images/int_phi.png\">"
   ]
  },
  {
   "cell_type": "markdown",
   "metadata": {},
   "source": [
    "The integration with respect to r is\n",
    "\n",
    "<img src=\"images/int_r_1.png\">\n",
    "<img src=\"images/int_r_2.png\">\n",
    "<img src=\"images/int_r_3.png\">"
   ]
  },
  {
   "cell_type": "markdown",
   "metadata": {},
   "source": [
    "(b) Obtain the expectation value of the potential energy, $<\\psi|V|\\psi>$.\n",
    "\n",
    "Since we are working in polar coordinates and $V = -e^{2}/r$, $<\\psi|V|\\psi>$ becomes\n",
    "\n",
    "$$<\\psi|V|\\psi> = -e^{2}A^{2}\\int_{0}^{\\pi}\\int_{0}^{2\\pi}\\int_{0}^{\\infty} r sin(\\phi) exp( \\frac{-2r}{a_{0}}) \\,dr \\,d\\theta \\,d\\phi$$\n",
    "\n",
    "$$<\\psi|V|\\psi> = -e^{2}A^{2}\\int_{0}^{\\pi}sin(\\phi) \\int_{0}^{2\\pi}\\int_{0}^{\\infty} rexp( \\frac{-2r}{a_{0}}) \\,dr \\,d\\theta \\,d\\phi$$\n",
    "\n",
    "$$<\\psi|V|\\psi> = - \\frac{a_{0}^{2}}{4}e^{2}A^{2}\\int_{0}^{\\pi}sin(\\phi) \\int_{0}^{2\\pi}\\,d\\theta \\,d\\phi$$\n",
    "$$<\\psi|V|\\psi> = - \\frac{a_{0}^{2}}{2} \\pi e^{2}A^{2}\\int_{0}^{\\pi}sin(\\phi)\\,d\\phi$$\n",
    "$$<\\psi|V|\\psi> = - a_{0}^{2}\\pi e^{2}A^{2}$$\n",
    "\n",
    "Since $A = (\\pi a_{0}^{3})^{(- \\frac{1}{2})}$,\n",
    "\n",
    "$$<\\psi|V|\\psi> = \\frac{-e^{2}}{a_{0}}$$"
   ]
  },
  {
   "cell_type": "markdown",
   "metadata": {},
   "source": [
    "Working outward, the integration with respect to $r$ is\n",
    "\n",
    "<img src=\"images/int_r_b_1.png\">\n",
    "<img src=\"images/int_r_b_2.png\">\n",
    "<img src=\"images/int_r_b_3.png\">"
   ]
  },
  {
   "cell_type": "markdown",
   "metadata": {},
   "source": [
    "The integration with respect to $\\theta$ is\n",
    "\n",
    "<img src=\"images/int_theta_b.png\">"
   ]
  },
  {
   "cell_type": "markdown",
   "metadata": {},
   "source": [
    "The integration with respect to $\\phi$ is\n",
    "<img src=\"images/int_phi_b.png\">"
   ]
  },
  {
   "cell_type": "markdown",
   "metadata": {},
   "source": [
    "(c) Calculation of the expectation value of the kinetic energy,\n",
    "\n",
    "$$K.E. = <\\psi| \\frac{-\\hbar^{2}}{2m} \\nabla^{2}|\\psi>,$$\n",
    "\n",
    "is trickier because of the infinite curvature at $r=0$. By partial integration in \n",
    "\n",
    "$$<O>= \\frac{ \\int \\psi^{*}(r)O\\psi(r)d^{3}r}{\\int \\psi^{*}(r)\\psi(r)d^{3}r},$$\n",
    "\n",
    "an equivalent form is obtained:\n",
    "\n",
    "$$K.E. = \\frac {\\frac{\\hbar^{2}}{2m} \\int \\nabla \\psi^{*} \\cdot \\nabla \\psi d^{3}r} {\\int \\psi^{*} \\psi d^{3}r}.$$\n",
    "\n",
    "Evaluate the expression to obtain $K.E.$"
   ]
  },
  {
   "cell_type": "markdown",
   "metadata": {},
   "source": [
    "Given $\\nabla f = \\frac{\\partial f}{\\partial r}r + \\frac{1}{r} \\frac{\\partial f}{\\partial \\theta} \\theta + \\frac{1}{rsin(\\theta)} \\frac{\\partial f}{\\partial \\phi} \\phi $ and $ \\psi (r) = A exp(\\frac{-r}{a_{0}})$,\n",
    "\n",
    "$$\\nabla \\psi(r) = A (\\frac{-1}{a_{0}}) exp( \\frac{-r}{a_{0}})$$\n",
    "\n",
    "Also ${\\int \\psi^{*} \\psi d^{3}r} = 1$, therefore,\n",
    "\n",
    "$$K.E. = {\\frac{\\hbar^{2}}{2m} \\int \\nabla \\psi^{*} \\cdot \\nabla \\psi d^{3}r}$$\n",
    "\n",
    "$$K.E. = {\\frac{\\hbar^{2}}{2m} \\int A (\\frac{-1}{a_{0}}) exp( \\frac{-r}{a_{0}}) \\cdot A (\\frac{-1}{a_{0}}) exp( \\frac{-r}{a_{0}}) d^{3}r}$$\n",
    "\n",
    "$$K.E. = {\\frac{\\hbar^{2}}{2m} A^{2} (\\frac{-1}{a_{0}})^{2} \\int exp( \\frac{-2r}{a_{0}}) d^{3}r}$$\n",
    "\n",
    "Using integration steps from above,\n",
    "\n",
    "$$K.E. = {\\frac{\\hbar^{2}}{2m} A^{2} (\\frac{-1}{a_{0}})^{2} 4 \\pi \\int_{0}^{\\infty} r^{2}exp( \\frac{-2r}{a_{0}}) dr}$$\n",
    "$$K.E. = \\frac{\\hbar^{2}}{2ma_{0}^{2}} A^{2} \\pi{a_{0}}^{3} $$\n",
    "$$K.E. = \\frac{\\hbar^{2}}{2ma_{0}^{2}} $$"
   ]
  },
  {
   "cell_type": "markdown",
   "metadata": {},
   "source": [
    "(d) Verify that the expectation value of the total energy, $<\\psi|V|\\psi> + K.E.$ is a minimum with respect to variation of $a_{0}$. Thus a varational of the form $exp(- \\alpha r)$ would have given the correct wave function."
   ]
  },
  {
   "cell_type": "markdown",
   "metadata": {},
   "source": [
    "Tale the first derivative given the answers above,\n",
    "\n",
    "$$\\frac{d}{da_{0}} \\left( P.E. + K.E.\\right) = \\frac{d}{da_{0}} \\left(\\frac{-e^{2}}{a_{0}} + \\frac{\\hbar^{2}}{2ma_{0}^{2}} \\right)$$\n",
    "$$\\frac{d}{da_{0}} \\left( P.E. + K.E.\\right) = \\frac{e^{2}}{a_{0}^{2}} - \\frac{\\hbar^{2}}{ma_{0}^{3}}$$\n",
    "\n",
    "Solve for $a_0$ by setting derivative equal to $0$,\n",
    "\n",
    "$$ a_{0} = \\frac{\\hbar^{2}}{me^{2}} $$\n",
    "\n",
    "Take second derivative and simplify by substituting in the value for $a_{0}$,\n",
    "$$\\frac{d}{da_{0}} \\left( \\frac{e^{2}}{a_{0}^{2}} - \\frac{\\hbar^{2}}{ma_{0}^{3}}\\right) = \\frac{-2e^{2}}{a_{0}^{3}} + \\frac{3\\hbar^{2}}{ma_{0}^{4}}$$\n",
    "$$\\frac{d}{da_{0}} \\left( \\frac{e^{2}}{a_{0}^{2}} - \\frac{\\hbar^{2}}{ma_{0}^{3}}\\right) = \\frac{1}{a_{0}^{3}} \\left(-2e^{2} + \\frac{3\\hbar^{2}}{ma_{0}}\\right)$$\n",
    "$$\\frac{d}{da_{0}} \\left( \\frac{e^{2}}{a_{0}^{2}} - \\frac{\\hbar^{2}}{ma_{0}^{3}}\\right) = \\frac{1}{a_{0}^{3}} \\left(-2e^{2} + 3e^{2}\\right)$$\n",
    "$$\\frac{d}{da_{0}} \\left( \\frac{e^{2}}{a_{0}^{2}} - \\frac{\\hbar^{2}}{ma_{0}^{3}}\\right) = \\frac{e^{2}}{a_{0}^{3}}$$\n",
    "\n",
    "Since $ \\frac{e^{2}}{a_{0}^{3}} > 0 $, then the expecation value of the total energy is a minimum w.r.t to variation of $a_{0}$."
   ]
  },
  {
   "cell_type": "markdown",
   "metadata": {},
   "source": [
    "(e) Verify that this $\\psi(r)$ is a solution of $H\\psi=E\\psi$ (Eq. 1-5)."
   ]
  },
  {
   "cell_type": "markdown",
   "metadata": {},
   "source": [
    "In spherical coordinates, the Laplacian takes the form:\n",
    "\n",
    "$$ \\nabla^{2}f=\\frac{1}{r^{2}}\\frac{\\partial}{\\partial r}\\left(r^{2} \\frac{\\partial f}{\\partial r} \\right) + \\frac{1}{r^{2}sin\\theta} \\frac{\\partial}{\\partial \\theta} \\left(sin\\theta \\frac{\\partial f}{\\partial \\theta} \\right) + \\frac{1}{r^{2}sin^{2}\\theta} \\left(\\frac{\\partial^{2}f}{\\partial \\phi^{2}} \\right) $$\n",
    "\n",
    "Since there $\\psi$ is only a function of $r$ and $V=-e^{2}/r$,\n",
    "\n",
    "$$ H\\psi=\\left(\\frac{-\\hbar^{2}}{2m}\\nabla^{2} + V \\right)Aexp(-r/a_{0})$$\n",
    "$$ H\\psi=\\left(\\frac{-\\hbar^{2}}{2m}\\frac{1}{r^{2}}\\frac{\\partial}{\\partial r}\\left(r^{2} \\frac{\\partial f}{\\partial r} \\right) + \\frac{-e^{2}}{r} \\right)Aexp(-r/a_{0})$$\n",
    "$$ H\\psi=\\frac{-\\hbar^{2}}{2m}\\frac{A}{r^{2}}\\frac{\\partial}{\\partial r}r^{2}\\left( \\frac{-1}{a_{0}} \\right)exp(-r/a_{0}) + \\frac{-Ae^{2}}{r}exp(-r/a_{0})$$\n",
    "$$ H\\psi=\\frac{-\\hbar^{2}}{2m}\\frac{A}{r^{2}}r^{2}\\left( \\frac{-1}{a_{0}} \\right)^{2} exp(-r/a_{0}) - \\frac{\\hbar^{2}}{2m}\\frac{A}{r^{2}}2r\\left( \\frac{-1}{a_{0}} \\right)exp(-r/a_{0})+ \\frac{-Ae^{2}}{r}exp(-r/a_{0})$$\n",
    "$$ H\\psi=\\frac{-\\hbar^{2}}{2m}\\frac{A}{a_{0}^{2}} exp(-r/a_{0}) + \\frac{\\hbar^{2}}{ma_{0}}\\frac{A}{r}exp(-r/a_{0}) - \\frac{Ae^{2}}{r}exp(-r/a_{0})$$\n",
    "\n",
    "Since $a_{0}= \\frac{\\hbar^{2}}{me^{2}}$,\n",
    "$$ H\\psi=\\frac{-\\hbar^{2}}{2m}\\frac{A}{a_{0}^{2}} exp(-r/a_{0}) + \\frac{\\hbar^{2}}{m \\left(\\frac{\\hbar^{2}}{me^{2}}\\right)}\\frac{A}{r}exp(-r/a_{0}) - \\frac{Ae^{2}}{r}exp(-r/a_{0})$$\n",
    "$$ H\\psi=\\frac{-\\hbar^{2}}{2m}\\frac{A}{a_{0}^{2}} exp(-r/a_{0}) $$\n",
    "$$ H\\psi=\\frac{-\\hbar^{2}}{2ma_{0}^{2}}Aexp(-r/a_{0}) $$\n",
    "$$ H\\psi=\\frac{-\\hbar^{2}}{2ma_{0}^{2}}Aexp(-r/a_{0}) $$"
   ]
  },
  {
   "cell_type": "code",
   "execution_count": null,
   "metadata": {},
   "outputs": [],
   "source": []
  }
 ],
 "metadata": {
  "kernelspec": {
   "display_name": "Python 3",
   "language": "python",
   "name": "python3"
  },
  "language_info": {
   "codemirror_mode": {
    "name": "ipython",
    "version": 3
   },
   "file_extension": ".py",
   "mimetype": "text/x-python",
   "name": "python",
   "nbconvert_exporter": "python",
   "pygments_lexer": "ipython3",
   "version": "3.7.3"
  }
 },
 "nbformat": 4,
 "nbformat_minor": 2
}
