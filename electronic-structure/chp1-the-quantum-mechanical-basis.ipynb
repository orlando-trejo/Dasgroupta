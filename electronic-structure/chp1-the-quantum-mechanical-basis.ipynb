{
 "cells": [
  {
   "cell_type": "markdown",
   "metadata": {},
   "source": [
    "# Electronic Structure and the Properties of Solids: The Physics of the Chemical Bond \n",
    "\n",
    "## by Walter A. Harrison\n",
    "\n",
    "## Chapter 1: The Quantum-Mechanical Basis"
   ]
  },
  {
   "cell_type": "code",
   "execution_count": 1,
   "metadata": {},
   "outputs": [],
   "source": [
    "from sympy.physics.quantum import *\n",
    "from sympy import symbols, I"
   ]
  },
  {
   "cell_type": "markdown",
   "metadata": {},
   "source": [
    "### Problem 1-1 Elementary quantum mechanics\n",
    "\n",
    "An electron in a hydrogen atom has a potential energy, $-e^{2}/r$, The wave function for the lowest energy state is\n",
    "\n",
    "$$\\psi(r)=Aexp( \\frac{-r}{a_{0}})$$\n",
    "\n",
    "where $a_{0}$ is the Bohr radius, $a_{0}=\\hbar/me^2$, and $A$ is a real constant.\n"
   ]
  },
  {
   "cell_type": "markdown",
   "metadata": {},
   "source": [
    "(a) Obtain $A$ such that the wave function is normalized, $<\\psi|\\psi> = 1$.\n",
    "\n",
    "\n",
    "Since we are working in polar coordinates, $<\\psi|\\psi>$ becomes\n",
    "\n",
    "$$<\\psi|\\psi> = A^{2}\\int_{0}^{\\pi}\\int_{0}^{2\\pi}\\int_{0}^{\\infty} r^2 sin(\\phi) exp( \\frac{-2r}{a_{0}}) \\,dr \\,d\\theta \\,d\\phi = 1$$\n",
    "\n",
    "$$<\\psi|\\psi> = 2 A^{2}\\int_{0}^{2\\pi}\\int_{0}^{\\infty} r^2 exp( \\frac{-2r}{a_{0}}) \\,dr \\,d\\theta = 1$$\n",
    "\n",
    "$$<\\psi|\\psi> = 4\\pi A^{2}\\int_{0}^{\\infty} r^2 exp( \\frac{-2r}{a_{0}}) \\,dr = 1$$\n",
    "\n",
    "$$<\\psi|\\psi> = \\pi A^{2} a_{0}^{3} = 1$$\n",
    "\n",
    "Therefore,\n",
    "\n",
    "$$A = (\\pi a_{0}^{3})^{(- \\frac{1}{2})}$$"
   ]
  },
  {
   "cell_type": "markdown",
   "metadata": {},
   "source": [
    "Working inward, the integration with respect to $\\phi$ is\n",
    "\n",
    "<img src=\"images/int_theta.png\">"
   ]
  },
  {
   "cell_type": "markdown",
   "metadata": {},
   "source": [
    "The integration with respect to $\\phi$ is \n",
    "\n",
    "<img src=\"images/int_phi.png\">"
   ]
  },
  {
   "cell_type": "markdown",
   "metadata": {},
   "source": [
    "The integration with respect to r is\n",
    "\n",
    "<img src=\"images/int_r_1.png\">\n",
    "<img src=\"images/int_r_2.png\">\n",
    "<img src=\"images/int_r_3.png\">"
   ]
  },
  {
   "cell_type": "markdown",
   "metadata": {},
   "source": [
    "(b) Obtain the expectation value of the potential energy, $<\\psi|V|\\psi>$.\n",
    "\n",
    "Since we are working in polar coordinates and $V = -e^{2}/r$, $<\\psi|V|\\psi>$ becomes\n",
    "\n",
    "$$<\\psi|V|\\psi> = -e^{2}A^{2}\\int_{0}^{\\pi}\\int_{0}^{2\\pi}\\int_{0}^{\\infty} r sin(\\phi) exp( \\frac{-2r}{a_{0}}) \\,dr \\,d\\theta \\,d\\phi$$\n",
    "\n",
    "$$<\\psi|V|\\psi> = -e^{2}A^{2}\\int_{0}^{\\pi}sin(\\phi) \\int_{0}^{2\\pi}\\int_{0}^{\\infty} rexp( \\frac{-2r}{a_{0}}) \\,dr \\,d\\theta \\,d\\phi$$\n",
    "\n",
    "$$<\\psi|V|\\psi> = -e^{2}A^{2}\\int_{0}^{\\pi}sin(\\phi) \\int_{0}^{2\\pi}\\int_{0}^{\\infty} rexp( \\frac{-2r}{a_{0}}) \\,dr \\,d\\theta \\,d\\phi$$"
   ]
  },
  {
   "cell_type": "code",
   "execution_count": null,
   "metadata": {},
   "outputs": [],
   "source": []
  },
  {
   "cell_type": "markdown",
   "metadata": {},
   "source": [
    "(c) Calculation of the expectation value of the kinetic energy,\n",
    "\n",
    "$$K.E. = <\\psi| \\frac{-\\hbar^{2}}{2m} \\nabla^{2}|\\psi>,$$\n",
    "\n",
    "is trickier because of the infinite curvature at $r=0$. By partial integration in \n",
    "\n",
    "$$<O>= \\frac{ \\int \\psi^{*}(r)O\\psi(r)d^{3}r}{\\int \\psi^{*}(r)\\psi(r)d^{3}r},$$\n",
    "\n",
    "an equivalent form is obtained:\n",
    "\n",
    "$$K.E. = \\frac {\\frac{\\hbar^{2}}{2m} \\int \\nabla \\psi^{*} \\cdot \\nabla \\psi d^{3}r} {\\int \\psi^{*} \\psi d^{3}r}.$$\n",
    "\n",
    "Evaluate the expression to obtain $K.E.$"
   ]
  },
  {
   "cell_type": "code",
   "execution_count": null,
   "metadata": {},
   "outputs": [],
   "source": []
  }
 ],
 "metadata": {
  "kernelspec": {
   "display_name": "Python 3",
   "language": "python",
   "name": "python3"
  },
  "language_info": {
   "codemirror_mode": {
    "name": "ipython",
    "version": 3
   },
   "file_extension": ".py",
   "mimetype": "text/x-python",
   "name": "python",
   "nbconvert_exporter": "python",
   "pygments_lexer": "ipython3",
   "version": "3.7.3"
  }
 },
 "nbformat": 4,
 "nbformat_minor": 2
}
